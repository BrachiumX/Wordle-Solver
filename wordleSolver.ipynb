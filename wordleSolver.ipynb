{
 "cells": [
  {
   "cell_type": "code",
   "execution_count": 477,
   "metadata": {},
   "outputs": [],
   "source": [
    "import string\n",
    "\n",
    "answerPath = 'answers.txt'\n",
    "\n",
    "with open(answerPath, 'r', encoding = 'utf-8') as answerFile:\n",
    "    answers = answerFile.readlines()\n",
    "\n",
    "wordCount = {}\n",
    "foundLettersWithPositions = ['', '', '', '', '']\n",
    "foundLettersWithoutPositions = ['', '', '', '', '']\n",
    "wrongLetters = ['', '', '', '', '']\n",
    "\n",
    "for letter in string.ascii_lowercase:\n",
    "    wordCount[letter] = 0"
   ]
  },
  {
   "cell_type": "code",
   "execution_count": 478,
   "metadata": {},
   "outputs": [],
   "source": [
    "def update(wrongLetters, foundLettersWithPositions, foundLettersWithoutPositions, answers):\n",
    "\n",
    "    temp = answers.copy()\n",
    "\n",
    "    for i in range(5):\n",
    "        if wrongLetters[i] == '':\n",
    "            continue\n",
    "\n",
    "        for word in answers:\n",
    "            if word in temp and wrongLetters[i] in word[0:5]:\n",
    "                temp.remove(word)\n",
    "\n",
    "    answers = temp.copy()\n",
    "\n",
    "    for i in range(5):\n",
    "        if foundLettersWithPositions[i] == '':\n",
    "            continue\n",
    "\n",
    "        for word in answers:\n",
    "            if word in temp and foundLettersWithPositions[i] != word[i]:\n",
    "                temp.remove(word)\n",
    "\n",
    "    answers = temp.copy()\n",
    "\n",
    "    for i in range(5):\n",
    "        if foundLettersWithoutPositions[i] == '':\n",
    "            continue\n",
    "\n",
    "        for word in answers:\n",
    "            if word in temp and (foundLettersWithoutPositions[i] not in word[0:5] or foundLettersWithoutPositions[i] == word[i]):\n",
    "                temp.remove(word)\n",
    "\n",
    "    answers = temp.copy()\n",
    "\n",
    "    for word in answers:\n",
    "        x = set(list(word[0:5]))\n",
    "        for letter in x:\n",
    "            wordCount[letter] += 1\n",
    "\n",
    "    return temp"
   ]
  },
  {
   "cell_type": "code",
   "execution_count": 479,
   "metadata": {},
   "outputs": [],
   "source": [
    "def findBest(answers):\n",
    "    result = ''\n",
    "    max = 0\n",
    "\n",
    "    for word in answers:\n",
    "        temp = set(list(word[0:5]))\n",
    "        count = 0\n",
    "        for letter in temp:\n",
    "            count += wordCount[letter]\n",
    "        if max < count:\n",
    "            max = count\n",
    "            result = word\n",
    "    return result"
   ]
  },
  {
   "cell_type": "code",
   "execution_count": 480,
   "metadata": {},
   "outputs": [],
   "source": [
    "def reset(foundLettersWithPositions, foundLettersWithoutPositions, wrongLetters, wordCount):\n",
    "    for i in range(5):\n",
    "        foundLettersWithoutPositions[i] = ''\n",
    "        foundLettersWithPositions[i] = ''\n",
    "        wrongLetters[i] = ''\n",
    "\n",
    "    for letter in string.ascii_lowercase:\n",
    "        wordCount[letter] = 0"
   ]
  },
  {
   "cell_type": "code",
   "execution_count": 481,
   "metadata": {},
   "outputs": [],
   "source": [
    "def result(res, guess, wrongLetters, foundLettersWithPositions, foundLettersWithoutPositions):\n",
    "    for i in range(5):\n",
    "        if res[i] == 't':\n",
    "            foundLettersWithPositions[i] = guess[i]\n",
    "        elif res[i] == 'p':\n",
    "            foundLettersWithoutPositions[i] = guess[i]\n",
    "        elif res[i] == 'f':\n",
    "            wrongLetters[i] = guess[i]\n",
    "        else:\n",
    "            raise ValueError('Wrong input')"
   ]
  },
  {
   "cell_type": "code",
   "execution_count": 482,
   "metadata": {},
   "outputs": [
    {
     "name": "stdout",
     "output_type": "stream",
     "text": [
      "alert\n",
      "\n"
     ]
    }
   ],
   "source": [
    "answers = update(wrongLetters, foundLettersWithPositions, foundLettersWithoutPositions, answers)\n",
    "guess = findBest(answers)\n",
    "print(guess)\n",
    "reset(foundLettersWithPositions, foundLettersWithoutPositions, wrongLetters, wordCount)"
   ]
  },
  {
   "cell_type": "markdown",
   "metadata": {},
   "source": [
    "Guess the printed word above"
   ]
  },
  {
   "cell_type": "code",
   "execution_count": 483,
   "metadata": {},
   "outputs": [],
   "source": [
    "result('ffppf', guess, wrongLetters, foundLettersWithPositions, foundLettersWithoutPositions)"
   ]
  },
  {
   "cell_type": "markdown",
   "metadata": {},
   "source": [
    "If a letter is right put a 't' in the string\n",
    "If a letter is partially right put a 'p' in the string\n",
    "If a letter is wrong put a 'f' in the string\n",
    "\n",
    "If the answer is 'house' and the guess is 'clock'\n",
    "\n",
    "'ffpff' should be the string\n",
    "\n",
    "Then put this string as the first argument of the result function."
   ]
  },
  {
   "cell_type": "code",
   "execution_count": 484,
   "metadata": {},
   "outputs": [
    {
     "name": "stdout",
     "output_type": "stream",
     "text": [
      "rouse\n",
      "\n"
     ]
    }
   ],
   "source": [
    "answers = update(wrongLetters, foundLettersWithPositions, foundLettersWithoutPositions, answers)\n",
    "guess = findBest(answers)\n",
    "print(guess)\n",
    "reset(foundLettersWithPositions, foundLettersWithoutPositions, wrongLetters, wordCount)"
   ]
  },
  {
   "cell_type": "code",
   "execution_count": 485,
   "metadata": {},
   "outputs": [],
   "source": [
    "result('pfffp', guess, wrongLetters, foundLettersWithPositions, foundLettersWithoutPositions)"
   ]
  },
  {
   "cell_type": "code",
   "execution_count": 486,
   "metadata": {},
   "outputs": [
    {
     "name": "stdout",
     "output_type": "stream",
     "text": [
      "fried\n",
      "\n"
     ]
    }
   ],
   "source": [
    "answers = update(wrongLetters, foundLettersWithPositions, foundLettersWithoutPositions, answers)\n",
    "guess = findBest(answers)\n",
    "print(guess)\n",
    "reset(foundLettersWithPositions, foundLettersWithoutPositions, wrongLetters, wordCount)"
   ]
  },
  {
   "cell_type": "code",
   "execution_count": 487,
   "metadata": {},
   "outputs": [],
   "source": [
    "result('ftttt', guess, wrongLetters, foundLettersWithPositions, foundLettersWithoutPositions)"
   ]
  },
  {
   "cell_type": "code",
   "execution_count": 488,
   "metadata": {},
   "outputs": [
    {
     "name": "stdout",
     "output_type": "stream",
     "text": [
      "cried\n",
      "\n"
     ]
    }
   ],
   "source": [
    "answers = update(wrongLetters, foundLettersWithPositions, foundLettersWithoutPositions, answers)\n",
    "guess = findBest(answers)\n",
    "print(guess)\n",
    "reset(foundLettersWithPositions, foundLettersWithoutPositions, wrongLetters, wordCount)"
   ]
  },
  {
   "cell_type": "code",
   "execution_count": null,
   "metadata": {},
   "outputs": [],
   "source": [
    "result('ttfff', guess, wrongLetters, foundLettersWithPositions, foundLettersWithoutPositions)"
   ]
  },
  {
   "cell_type": "code",
   "execution_count": null,
   "metadata": {},
   "outputs": [],
   "source": [
    "answers = update(wrongLetters, foundLettersWithPositions, foundLettersWithoutPositions, answers)\n",
    "guess = findBest(answers)\n",
    "print(guess)\n",
    "reset(foundLettersWithPositions, foundLettersWithoutPositions, wrongLetters, wordCount)"
   ]
  },
  {
   "cell_type": "code",
   "execution_count": null,
   "metadata": {},
   "outputs": [],
   "source": [
    "result('ttfff', guess, wrongLetters, foundLettersWithPositions, foundLettersWithoutPositions)"
   ]
  },
  {
   "cell_type": "code",
   "execution_count": null,
   "metadata": {},
   "outputs": [],
   "source": [
    "answers = update(wrongLetters, foundLettersWithPositions, foundLettersWithoutPositions, answers)\n",
    "guess = findBest(answers)\n",
    "print(guess)\n",
    "reset(foundLettersWithPositions, foundLettersWithoutPositions, wrongLetters, wordCount)"
   ]
  }
 ],
 "metadata": {
  "kernelspec": {
   "display_name": "venv",
   "language": "python",
   "name": "python3"
  },
  "language_info": {
   "codemirror_mode": {
    "name": "ipython",
    "version": 3
   },
   "file_extension": ".py",
   "mimetype": "text/x-python",
   "name": "python",
   "nbconvert_exporter": "python",
   "pygments_lexer": "ipython3",
   "version": "3.13.1"
  }
 },
 "nbformat": 4,
 "nbformat_minor": 2
}
